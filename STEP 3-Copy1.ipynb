{
 "cells": [
  {
   "cell_type": "code",
   "execution_count": 2,
   "metadata": {},
   "outputs": [],
   "source": [
    "import pandas as pd\n",
    "import csv, sys\n",
    "import nltk\n",
    "from nltk.corpus import stopwords\n",
    "import string"
   ]
  },
  {
   "cell_type": "markdown",
   "metadata": {},
   "source": [
    "### STEP 2"
   ]
  },
  {
   "cell_type": "code",
   "execution_count": 4,
   "metadata": {},
   "outputs": [],
   "source": [
    "df = pd.read_csv('Airbnb_Texas_Rentals.csv')\n",
    "df = df.drop('Unnamed: 0', axis = 1)"
   ]
  },
  {
   "cell_type": "code",
   "execution_count": 5,
   "metadata": {},
   "outputs": [],
   "source": [
    "for i in range(df.index.max()+1):\n",
    "        new = open('doc_'+str(i)+'.tsv', 'w')\n",
    "        for j in range(9):\n",
    "               new.write('%s\\t' %df.iloc[i, j])\n",
    "        new.close()\n",
    "        if i > 2:\n",
    "            break"
   ]
  },
  {
   "cell_type": "markdown",
   "metadata": {},
   "source": [
    "### STEP 3"
   ]
  },
  {
   "cell_type": "code",
   "execution_count": 48,
   "metadata": {},
   "outputs": [
    {
     "name": "stdout",
     "output_type": "stream",
     "text": [
      "Collecting textblob\n",
      "  Downloading https://files.pythonhosted.org/packages/11/18/7f55c8be6d68ddc4036ffda5382ca51e23a1075987f708b9123712091af1/textblob-0.15.1-py2.py3-none-any.whl (631kB)\n",
      "Requirement already satisfied, skipping upgrade: nltk>=3.1 in c:\\users\\giuli\\anaconda3\\lib\\site-packages (from textblob) (3.3)\n",
      "Requirement already satisfied, skipping upgrade: six in c:\\users\\giuli\\anaconda3\\lib\\site-packages (from nltk>=3.1->textblob) (1.11.0)\n",
      "Installing collected packages: textblob\n",
      "Successfully installed textblob-0.15.1\n"
     ]
    }
   ],
   "source": [
    "!pip install -U textblob"
   ]
  },
  {
   "cell_type": "code",
   "execution_count": 57,
   "metadata": {},
   "outputs": [],
   "source": [
    "import re\n",
    "from nltk.corpus import stopwords\n",
    "from textblob import TextBlob\n",
    "from nltk.stem import PorterStemmer"
   ]
  },
  {
   "cell_type": "code",
   "execution_count": 58,
   "metadata": {},
   "outputs": [],
   "source": [
    "#temoporaly create a dataframe from our tsv files\n",
    "tsv = pd.read_csv('doc_1.tsv', sep='\\t', encoding = 'ISO-8859-1', header = None)\n",
    "\n",
    "#tsv[4] is the description\n",
    "#tsv[7] is the title\n",
    "\n",
    "#remove stopwords\n",
    "stop = stopwords.words('english')\n",
    "tsv[4] = tsv[4].apply(lambda x: \" \".join(x for x in x.split() if x not in stop))\n",
    "tsv[7] = tsv[7].apply(lambda x: \" \".join(x for x in x.split() if x not in stop)) \n",
    "\n",
    "#remove punctuaction\n",
    "tsv[4] = tsv[4].str.replace('[^\\w\\s]','')\n",
    "tsv[7] = tsv[7].str.replace('[^\\w\\s]','')\n",
    "\n",
    "#stemming\n",
    "st = PorterStemmer()\n",
    "tsv[4] = tsv[4].apply(lambda x: \" \".join([st.stem(word) for word in x.split()]))\n",
    "tsv[7] = tsv[7].apply(lambda x: \" \".join([st.stem(word) for word in x.split()]))\n",
    "\n",
    "#put everything to lowercase\n",
    "tsv[4] = tsv[4].apply(lambda x: \" \".join(x.lower() for x in x.split()))\n",
    "tsv[7] = tsv[7].apply(lambda x: \" \".join(x.lower() for x in x.split()))\n",
    "\n",
    "#spelling correction\n",
    "#tsv[4] = tsv[4].apply(lambda x: str(TextBlob(x).correct()))\n",
    "#tsv[7] = tsv[7].apply(lambda x: str(TextBlob(x).correct()))"
   ]
  }
 ],
 "metadata": {
  "kernelspec": {
   "display_name": "Python 3",
   "language": "python",
   "name": "python3"
  },
  "language_info": {
   "codemirror_mode": {
    "name": "ipython",
    "version": 3
   },
   "file_extension": ".py",
   "mimetype": "text/x-python",
   "name": "python",
   "nbconvert_exporter": "python",
   "pygments_lexer": "ipython3",
   "version": "3.6.5"
  }
 },
 "nbformat": 4,
 "nbformat_minor": 2
}
