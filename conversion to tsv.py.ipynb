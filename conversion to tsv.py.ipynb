{
 "cells": [
  {
   "cell_type": "markdown",
   "metadata": {},
   "source": [
    "### dubbi:\n",
    "- numero da dare al documento, controlla indice su excel\n",
    "- errors = 'ignore', problema di encoding ('charmap' codec can't decode byte 0x9d in position 1055: character maps to <undefined\\>"
   ]
  },
  {
   "cell_type": "code",
   "execution_count": 88,
   "metadata": {},
   "outputs": [],
   "source": [
    "import csv, sys\n",
    "file = open('Airbnb_Texas_Rentals.csv','r', errors = 'ignore')\n",
    "count = -1\n",
    "for row in file:\n",
    "        count += 1\n",
    "        new = open('doc_'+str(count)+'.tsv', 'w')\n",
    "        writer = csv.writer(new, delimiter= ' ', escapechar  = ' ', quoting = csv.QUOTE_NONE)\n",
    "        writer.writerow(row.replace(' ', ''))\n",
    "        if count > 2:\n",
    "            break"
   ]
  },
  {
   "cell_type": "code",
   "execution_count": 89,
   "metadata": {},
   "outputs": [],
   "source": [
    "tsv = open('doc_1.tsv')"
   ]
  },
  {
   "cell_type": "code",
   "execution_count": 90,
   "metadata": {},
   "outputs": [
    {
     "name": "stdout",
     "output_type": "stream",
     "text": [
      "0 \t 1 \t $ 2 7 \t 2 \t H u m b l e \t M a y 2 0 1 6 \t W e l c o m e t o s t a y i n p r i v a t e r o o m w i t h q u e e n b e d a n d d e t a c h e d p r i v a t e b a t h r o o m o n t h e s e c o n d f l o o r . A n o t h e r p r i v a t e b e d r o o m w i t h s o f a b e d i s a v a i l a b l e f o r a d d i t i o n a l g u e s t s . 1 0 $ f o r a n a d d i t i o n a l g u e s t . \\ n 1 0 m i n f r o m I A H a i r p o r t \\ n A i r p o r t p i c k - u p / d r o p o f f i s a v a i l a b l e f o r $ 1 0 / t r i p . \t 3 0 . 0 2 0 1 3 7 9 1 9 9 5 1 2 \t - 9 5 . 2 9 3 9 9 6 0 0 4 2 5 1 2 8 \t 2 P r i v a t e r o o m s / b a t h r o o m 1 0 m i n f r o m I A H a i r p o r t \t h t t p s : / / w w w . a i r b n b . c o m / r o o m s / 1 8 5 2 0 4 4 4 ? l o c a t i o n = C l e v e l a n d % 2 C % 2 0 T X  \n",
      "\n",
      "\n",
      "\n",
      "\n",
      "\n"
     ]
    }
   ],
   "source": [
    "for row in tsv:\n",
    "    print(row)"
   ]
  }
 ],
 "metadata": {
  "kernelspec": {
   "display_name": "Python 3",
   "language": "python",
   "name": "python3"
  },
  "language_info": {
   "codemirror_mode": {
    "name": "ipython",
    "version": 3
   },
   "file_extension": ".py",
   "mimetype": "text/x-python",
   "name": "python",
   "nbconvert_exporter": "python",
   "pygments_lexer": "ipython3",
   "version": "3.6.5"
  }
 },
 "nbformat": 4,
 "nbformat_minor": 2
}
