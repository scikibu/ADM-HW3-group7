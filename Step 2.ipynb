{
 "cells": [
  {
   "cell_type": "code",
   "execution_count": 98,
   "metadata": {},
   "outputs": [],
   "source": [
    "import pandas as pd\n",
    "import csv, sys\n",
    "\n",
    "df = pd.read_csv('Airbnb_Texas_Rentals.csv')\n",
    "df = df.drop('Unnamed: 0', axis = 1)\n",
    "for i in range(df.index.max()+1):\n",
    "        new = open('doc_'+str(i)+'.tsv', 'w')\n",
    "        for j in range(9):\n",
    "               new.write('%s\\t' %df.iloc[i, j])\n",
    "        new.close()\n",
    "        if i > 2:\n",
    "            break"
   ]
  }
 ],
 "metadata": {
  "kernelspec": {
   "display_name": "Python 3",
   "language": "python",
   "name": "python3"
  },
  "language_info": {
   "codemirror_mode": {
    "name": "ipython",
    "version": 3
   },
   "file_extension": ".py",
   "mimetype": "text/x-python",
   "name": "python",
   "nbconvert_exporter": "python",
   "pygments_lexer": "ipython3",
   "version": "3.6.5"
  }
 },
 "nbformat": 4,
 "nbformat_minor": 2
}
